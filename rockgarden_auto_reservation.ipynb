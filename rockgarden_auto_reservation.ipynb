{
 "cells": [
  {
   "cell_type": "code",
   "execution_count": 19,
   "metadata": {},
   "outputs": [],
   "source": [
    "from selenium import webdriver\n",
    "from selenium.webdriver.common.keys import Keys\n",
    "from selenium.webdriver.common.by import By\n",
    "from selenium.webdriver.support.ui import WebDriverWait\n",
    "from selenium.webdriver.support import expected_conditions as EC\n",
    "import pyautogui\n",
    "import time"
   ]
  },
  {
   "cell_type": "code",
   "execution_count": 58,
   "metadata": {},
   "outputs": [],
   "source": [
    "# open the homepage and maximize window\n",
    "driver = webdriver.Chrome('C:/Users/min11/Desktop/coding/auto_reservation_project/chromedriver.exe')\n",
    "url = 'https://www.rockgarden.kr:8444/'\n",
    "driver.get(url)\n",
    "driver.maximize_window()\n",
    "\n",
    "# click reservation button on the main page\n",
    "reserve_btn = WebDriverWait(driver, 10).until(EC.visibility_of_element_located((By.CLASS_NAME, \"icon_01\"))).click()\n",
    "\n",
    "# hit the enter to the next page\n",
    "time.sleep(1)\n",
    "pyautogui.hotkey('enter')\n",
    "time.sleep(1)\n",
    "\n",
    "# insert login id and password\n",
    "id_insert = WebDriverWait(driver, 5).until(EC.presence_of_element_located((By.XPATH, \"//*[@id='userid']\"))).send_keys('insert your id')\n",
    "pw_insert = WebDriverWait(driver, 5).until(EC.presence_of_element_located((By.XPATH, \"//*[@id='userpw']\"))).send_keys('insert your pw')\n",
    "pyautogui.hotkey('enter')\n",
    "time.sleep(1)\n",
    "pyautogui.hotkey('enter')\n",
    "pyautogui.hotkey('enter')\n",
    "time.sleep(1)\n",
    "\n",
    "\n",
    "# click the latest date and  pre-defined time(this case is for saturday booking and aimed to select around 09:00)\n",
    "flag_btn = WebDriverWait(driver, 10).until(EC.presence_of_element_located\n",
    "           ((By.XPATH, \"//*[@id='wrap']/div[2]/div[3]/div[2]/ul[1]/li[2]/table[2]/tbody/tr[3]/td[7]/table/tbody/tr[2]/td/a/img\"))).click()\n",
    "\n",
    "# Please change XPATH for your time\n",
    "nine_hole_0900_btn = WebDriverWait(driver, 30).until(EC.presence_of_element_located\n",
    "                                                     ((By.XPATH, \"//*[@id='dvTime']/li[2]/div/table/tbody/tr[21]/td[2]/a\"))).click()\n",
    "\n",
    "time.sleep(0.5)\n",
    "pyautogui.hotkey('enter')\n",
    "\n",
    "# Please change XPATH for your time\n",
    "nine_hole_0900_btn = WebDriverWait(driver, 30).until(EC.presence_of_element_located\n",
    "                                                     ((By.XPATH, \"//*[@id='dvTime']/li[2]/div/table/tbody/tr[22]/td[2]/a\"))).click()\n",
    "\n",
    "time.sleep(0.5)\n",
    "pyautogui.hotkey('enter')\n",
    "\n",
    "# Please change XPATH for your time\n",
    "nine_hole_0900_btn = WebDriverWait(driver, 30).until(EC.presence_of_element_located\n",
    "                                                     ((By.XPATH, '//*[@id=\"dvTime\"]/li[2]/div/table/tbody/tr[23]/td[2]/a'))).click()\n",
    "\n",
    "time.sleep(0.5)\n",
    "pyautogui.hotkey('enter')\n",
    "\n",
    "# click how many ppl \n",
    "\n",
    "# click reservation btn\n",
    "\n",
    "print(\"complete booking~ enjoy your golf~\")\n"
   ]
  },
  {
   "cell_type": "code",
   "execution_count": null,
   "metadata": {},
   "outputs": [],
   "source": [
    "# 09:00 Xpath\n",
    "\"//*[@id='dvTime']/li[2]/div/table/tbody/tr[21]/td[2]/a\"\n",
    "# 0907\n",
    "\"//*[@id='dvTime']/li[2]/div/table/tbody/tr[22]/td[2]/a\"\n",
    "# 0915\n",
    "'//*[@id=\"dvTime\"]/li[2]/div/table/tbody/tr[23]/td[2]/a'\n",
    "# 12:07\n",
    "\"//*[@id='dvTime']/li[2]/div/table/tbody/tr[43]/td[2]/a\""
   ]
  }
 ],
 "metadata": {
  "kernelspec": {
   "display_name": "Python 3",
   "language": "python",
   "name": "python3"
  },
  "language_info": {
   "codemirror_mode": {
    "name": "ipython",
    "version": 3
   },
   "file_extension": ".py",
   "mimetype": "text/x-python",
   "name": "python",
   "nbconvert_exporter": "python",
   "pygments_lexer": "ipython3",
   "version": "3.8.3"
  }
 },
 "nbformat": 4,
 "nbformat_minor": 4
}
